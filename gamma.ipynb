{
 "cells": [
  {
   "cell_type": "code",
   "execution_count": 2,
   "metadata": {},
   "outputs": [],
   "source": [
    "import uproot\n",
    "\n",
    "filename = '500k/results-master.root'\n",
    "\n",
    "file = uproot.open(filename)\n",
    "ttree = file['Universal Ntuple']\n",
    "data = ttree.arrays([\"type\", \"xPos\", \"yPos\", \"zPos\", \"xDir\", \"yDir\", \"zDir\", \"len\", \"E\"], library='pd')"
   ]
  },
  {
   "cell_type": "code",
   "execution_count": 3,
   "metadata": {},
   "outputs": [
    {
     "name": "stdout",
     "output_type": "stream",
     "text": [
      "<class 'pandas.core.frame.DataFrame'>\n",
      "RangeIndex: 485064 entries, 0 to 485063\n",
      "Data columns (total 9 columns):\n",
      " #   Column  Non-Null Count   Dtype  \n",
      "---  ------  --------------   -----  \n",
      " 0   type    485064 non-null  int32  \n",
      " 1   xPos    485064 non-null  float64\n",
      " 2   yPos    485064 non-null  float64\n",
      " 3   zPos    485064 non-null  float64\n",
      " 4   xDir    485064 non-null  float64\n",
      " 5   yDir    485064 non-null  float64\n",
      " 6   zDir    485064 non-null  float64\n",
      " 7   len     485064 non-null  float64\n",
      " 8   E       485064 non-null  float64\n",
      "dtypes: float64(8), int32(1)\n",
      "memory usage: 31.5 MB\n"
     ]
    }
   ],
   "source": [
    "data.info()"
   ]
  },
  {
   "cell_type": "code",
   "execution_count": 40,
   "metadata": {},
   "outputs": [],
   "source": [
    "# 0 - нейтроны, 1 - гамма-кванты\n",
    "n_data = data.loc[data['type'] == 0]\n",
    "g_data = data.loc[data['type'] == 1]"
   ]
  },
  {
   "cell_type": "code",
   "execution_count": 131,
   "metadata": {},
   "outputs": [
    {
     "data": {
      "text/plain": [
       "98        4.301455e-09\n",
       "200       8.039478e-09\n",
       "201       7.640892e-09\n",
       "667       7.514359e-09\n",
       "668       7.541985e-09\n",
       "              ...     \n",
       "484175    7.548124e-09\n",
       "484180    7.884978e-09\n",
       "484278    9.156338e-09\n",
       "484308    3.546006e-09\n",
       "484875    6.106006e-09\n",
       "Name: E, Length: 4389, dtype: float64"
      ]
     },
     "execution_count": 131,
     "metadata": {},
     "output_type": "execute_result"
    }
   ],
   "source": [
    "n_data['E'].loc[n_data['E'] <  1e-8]"
   ]
  },
  {
   "cell_type": "code",
   "execution_count": 6,
   "metadata": {},
   "outputs": [],
   "source": [
    "# Параметры бака Tank 1:\n",
    "# Цилиндр со стенкой толщиной 1 мм. от 32.5 до 32.6 см. Высота 90 см.\n",
    "# 2 крышки толщиной 1 мм.\n",
    "import math\n",
    "\n",
    "V_cap = math.pi * 32.6**2 * 0.1 # cm3\n",
    "V_wall = math.pi * (32.6**2 - 32.5**2) * 90 # cm3\n",
    "V = V_cap + V_wall"
   ]
  },
  {
   "cell_type": "code",
   "execution_count": 94,
   "metadata": {},
   "outputs": [],
   "source": [
    "def read_bins(filename):\n",
    "    bins = []\n",
    "    with open(filename) as file:\n",
    "        for line in file:\n",
    "            bins.append(float(line))\n",
    "    return [bin*1e-6 for bin in bins]\n",
    "\n",
    "def filter_bins(bins, min, max):\n",
    "    return [b for b in bins if b >= min and b <= max]"
   ]
  },
  {
   "cell_type": "code",
   "execution_count": 121,
   "metadata": {},
   "outputs": [],
   "source": [
    "# Посмотрим общий спектр нейтронов\n",
    "import pandas as pd\n",
    "\n",
    "neutron_bins = read_bins('neutron_bins.txt')\n",
    "# neutron_bins\n",
    "\n",
    "# n_data['E'].plot(weights=n_data['len'], kind='hist', xticks=neutron_bins, logy=True)\n",
    "\n",
    "# import matplotlib.pyplot as plt\n",
    "\n",
    "# plt.hist(n_data['E'], weights=n_data['len'], bins=neutron_bins, log=True)\n",
    "# plt.show()\n"
   ]
  },
  {
   "cell_type": "code",
   "execution_count": null,
   "metadata": {},
   "outputs": [],
   "source": [
    "import seaborn as sns\n",
    "\n",
    "sns.set_theme()\n",
    "\n",
    "ax = sns.histplot(\n",
    "    x=n_data['E'],\n",
    "    # log_scale=(True, False), \n",
    "    weights=n_data['len'], \n",
    "    bins=neutron_bins,\n",
    "    # bins=50,\n",
    "    stat='frequency', # count, frequency\n",
    "    fill=True,\n",
    ")\n",
    "\n",
    "# histogram.set_ylim(1e-5, 1e+6)\n",
    "ax.set_xlim(1e-9, 20)\n",
    "ax.set_yscale('log')\n",
    "ax.set_xscale('log')"
   ]
  },
  {
   "cell_type": "code",
   "execution_count": 175,
   "metadata": {},
   "outputs": [],
   "source": [
    "# Отфильтруем нейтроны, которые пересекают дно \"бочки\" и направлены наружу\n",
    "n_data_bottom = n_data.loc[n_data['zPos'] <= -450].loc[n_data['zDir'] < 0]\n",
    "# print(n_data_bottom.info())\n",
    "# n_data_bottom.tail()"
   ]
  },
  {
   "cell_type": "code",
   "execution_count": 214,
   "metadata": {},
   "outputs": [
    {
     "data": {
      "image/png": "[encoded data removed]",
      "text/plain": [
       "<Figure size 640x480 with 1 Axes>"
      ]
     },
     "metadata": {},
     "output_type": "display_data"
    }
   ],
   "source": [
    "import matplotlib.pyplot as plt\n",
    "fig, ax = plt.subplots()\n",
    "\n",
    "\n",
    "sns.histplot(\n",
    "    x=n_data_bottom['E'],\n",
    "    color='gold',\n",
    "    # log_scale=(True, False), \n",
    "    weights=n_data_bottom['len'], \n",
    "    bins=neutron_bins,\n",
    "    # bins=50,\n",
    "    # stat='frequency', # count, frequency\n",
    "    stat='density',\n",
    "    # fill=False,\n",
    "    alpha=1.0,\n",
    "    ax=ax,\n",
    "    element=\"step\",\n",
    "    fill=False,\n",
    ")\n",
    "\n",
    "sns.histplot(\n",
    "    x=n_data['E'],\n",
    "    # log_scale=(True, False), \n",
    "    weights=n_data['len'], \n",
    "    bins=neutron_bins,\n",
    "    # bins=50,\n",
    "    # stat='frequency', # count, frequency\n",
    "    stat='density',\n",
    "    # fill=False,\n",
    "    alpha=0.5,\n",
    "    ax=ax,\n",
    "    element=\"step\",\n",
    "    fill=False,\n",
    ")\n",
    "\n",
    "# histogram.set_ylim(1e-5, 1e+6)\n",
    "ax.set_xlim(1e-9, 20)\n",
    "ax.set_yscale('log')\n",
    "ax.set_xscale('log')"
   ]
  },
  {
   "cell_type": "code",
   "execution_count": 237,
   "metadata": {},
   "outputs": [
    {
     "data": {
      "image/png": "[encoded data removed]",
      "text/plain": [
       "<Figure size 640x480 with 1 Axes>"
      ]
     },
     "metadata": {},
     "output_type": "display_data"
    }
   ],
   "source": [
    "# gamma \n",
    "fig, ax = plt.subplots()\n",
    "\n",
    "sns.histplot(\n",
    "    x=g_data['E'],\n",
    "    # color='green',\n",
    "    # log_scale=(True, False), \n",
    "    weights=g_data['len'],\n",
    "    # bins=neutron_bins,\n",
    "    bins=100,\n",
    "    stat='frequency', # count, frequency\n",
    "    # stat='density',\n",
    "    # fill=False,\n",
    "    # alpha=1.0,\n",
    "    ax=ax,\n",
    "    # element=\"step\",\n",
    "    # fill=False,\n",
    ")\n",
    "\n",
    "ax.set_xlim(1e-5, 15)\n",
    "# ax.set_xlim(1e-9, 20)\n",
    "ax.set_yscale('log')\n",
    "# ax.set_xscale('log')\n"
   ]
  },
  {
   "cell_type": "code",
   "execution_count": 235,
   "metadata": {},
   "outputs": [
    {
     "data": {
      "text/html": [
       "<div>\n",
       "<style scoped>\n",
       "    .dataframe tbody tr th:only-of-type {\n",
       "        vertical-align: middle;\n",
       "    }\n",
       "\n",
       "    .dataframe tbody tr th {\n",
       "        vertical-align: top;\n",
       "    }\n",
       "\n",
       "    .dataframe thead th {\n",
       "        text-align: right;\n",
       "    }\n",
       "</style>\n",
       "<table border=\"1\" class=\"dataframe\">\n",
       "  <thead>\n",
       "    <tr style=\"text-align: right;\">\n",
       "      <th></th>\n",
       "      <th>type</th>\n",
       "      <th>xPos</th>\n",
       "      <th>yPos</th>\n",
       "      <th>zPos</th>\n",
       "      <th>xDir</th>\n",
       "      <th>yDir</th>\n",
       "      <th>zDir</th>\n",
       "      <th>len</th>\n",
       "      <th>E</th>\n",
       "    </tr>\n",
       "  </thead>\n",
       "  <tbody>\n",
       "    <tr>\n",
       "      <th>484100</th>\n",
       "      <td>1</td>\n",
       "      <td>-101.837993</td>\n",
       "      <td>110.568075</td>\n",
       "      <td>450.480760</td>\n",
       "      <td>-0.185703</td>\n",
       "      <td>-0.246967</td>\n",
       "      <td>0.951063</td>\n",
       "      <td>0.007064</td>\n",
       "      <td>0.006363</td>\n",
       "    </tr>\n",
       "    <tr>\n",
       "      <th>484415</th>\n",
       "      <td>1</td>\n",
       "      <td>-55.509905</td>\n",
       "      <td>236.979867</td>\n",
       "      <td>-450.067164</td>\n",
       "      <td>0.178148</td>\n",
       "      <td>-0.218272</td>\n",
       "      <td>-0.959490</td>\n",
       "      <td>0.002769</td>\n",
       "      <td>0.006363</td>\n",
       "    </tr>\n",
       "    <tr>\n",
       "      <th>484470</th>\n",
       "      <td>1</td>\n",
       "      <td>284.140102</td>\n",
       "      <td>157.847022</td>\n",
       "      <td>-319.038664</td>\n",
       "      <td>-0.721292</td>\n",
       "      <td>-0.406047</td>\n",
       "      <td>0.561128</td>\n",
       "      <td>0.004884</td>\n",
       "      <td>0.006363</td>\n",
       "    </tr>\n",
       "    <tr>\n",
       "      <th>484601</th>\n",
       "      <td>1</td>\n",
       "      <td>289.031117</td>\n",
       "      <td>149.468842</td>\n",
       "      <td>90.852850</td>\n",
       "      <td>-0.707818</td>\n",
       "      <td>0.700511</td>\n",
       "      <td>0.090984</td>\n",
       "      <td>0.000006</td>\n",
       "      <td>0.000721</td>\n",
       "    </tr>\n",
       "    <tr>\n",
       "      <th>485021</th>\n",
       "      <td>1</td>\n",
       "      <td>109.299713</td>\n",
       "      <td>-227.534926</td>\n",
       "      <td>-450.995293</td>\n",
       "      <td>-0.129404</td>\n",
       "      <td>-0.509448</td>\n",
       "      <td>0.850716</td>\n",
       "      <td>0.003334</td>\n",
       "      <td>0.006363</td>\n",
       "    </tr>\n",
       "  </tbody>\n",
       "</table>\n",
       "</div>"
      ],
      "text/plain": [
       "        type        xPos        yPos        zPos      xDir      yDir  \\\n",
       "484100     1 -101.837993  110.568075  450.480760 -0.185703 -0.246967   \n",
       "484415     1  -55.509905  236.979867 -450.067164  0.178148 -0.218272   \n",
       "484470     1  284.140102  157.847022 -319.038664 -0.721292 -0.406047   \n",
       "484601     1  289.031117  149.468842   90.852850 -0.707818  0.700511   \n",
       "485021     1  109.299713 -227.534926 -450.995293 -0.129404 -0.509448   \n",
       "\n",
       "            zDir       len         E  \n",
       "484100  0.951063  0.007064  0.006363  \n",
       "484415 -0.959490  0.002769  0.006363  \n",
       "484470  0.561128  0.004884  0.006363  \n",
       "484601  0.090984  0.000006  0.000721  \n",
       "485021  0.850716  0.003334  0.006363  "
      ]
     },
     "execution_count": 235,
     "metadata": {},
     "output_type": "execute_result"
    }
   ],
   "source": [
    "gamma_peak = g_data.loc[g_data['E'] < 1e-2]\n",
    "# gamma_peak = gamma_peak.loc[g_data['E'] < 2.23]\n",
    "gamma_peak.tail()"
   ]
  },
  {
   "cell_type": "code",
   "execution_count": null,
   "metadata": {},
   "outputs": [],
   "source": []
  }
 ],
 "metadata": {
  "kernelspec": {
   "display_name": "venv",
   "language": "python",
   "name": "python3"
  },
  "language_info": {
   "codemirror_mode": {
    "name": "ipython",
    "version": 3
   },
   "file_extension": ".py",
   "mimetype": "text/x-python",
   "name": "python",
   "nbconvert_exporter": "python",
   "pygments_lexer": "ipython3",
   "version": "3.9.12"
  },
  "orig_nbformat": 4,
  "vscode": {
   "interpreter": {
    "hash": "bf623f715c1ea52a38a8883ed116910d03dc7bc3628197525d470f6ab20aa4a4"
   }
  }
 },
 "nbformat": 4,
 "nbformat_minor": 2
}
